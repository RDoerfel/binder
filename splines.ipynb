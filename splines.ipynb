{
 "cells": [
  {
   "cell_type": "markdown",
   "metadata": {},
   "source": [
    "# Basis Expansions and Regularization"
   ]
  },
  {
   "cell_type": "markdown",
   "metadata": {},
   "source": [
    "## Imports"
   ]
  },
  {
   "cell_type": "code",
   "execution_count": 41,
   "metadata": {},
   "outputs": [],
   "source": [
    "import numpy as np\n",
    "import matplotlib.pyplot as plt\n",
    "import ipywidgets as widgets\n",
    "import pandas as pd\n",
    "import math\n",
    "from ipywidgets import interact, interact_manual"
   ]
  },
  {
   "cell_type": "markdown",
   "metadata": {},
   "source": [
    "## Piecewise Polynomials and Splines "
   ]
  },
  {
   "cell_type": "markdown",
   "metadata": {},
   "source": [
    "### Example Figure 5.2 and Equotian 5.3"
   ]
  },
  {
   "cell_type": "code",
   "execution_count": 42,
   "metadata": {},
   "outputs": [],
   "source": [
    "## lets generate an imputvariable stored in x\n",
    "x = np.arange(0,10,0.1)\n",
    "y = np.sin(x) \n",
    "yNoise = y + np.random.normal(0,0.2,len(x))"
   ]
  },
  {
   "cell_type": "code",
   "execution_count": 43,
   "metadata": {},
   "outputs": [],
   "source": [
    "## define function for cubic second order continious spline\n",
    "\n",
    "def cubicSpline(X,ne1,ne2):\n",
    "    \"\"\"compute cubic spline for input X\n",
    "    and nodes ne\n",
    "    \n",
    "    Parameters\n",
    "    ----------\n",
    "    X : ndarray(1,N)  \n",
    "        Input X\n",
    "    ne1 : int\n",
    "        index of node 1 in X\n",
    "    ne2 : int\n",
    "        index of node 2 in X      \n",
    "        \n",
    "    Return\n",
    "    -------\n",
    "    basis : ndarray(M,len(X))\n",
    "        matrix that contains the basis expansions for Input X with M basis functions\n",
    "    \"\"\"\n",
    "    e1 = X[ne1]\n",
    "    e2 = X[ne2]\n",
    "    # create basis functions\n",
    "    M = 6 # number of bases\n",
    "    basis = np.zeros((M,len(X)))\n",
    "    basis[0,:] = np.ones(len(X))\n",
    "    basis[1,:] = X\n",
    "    basis[2,:] = X**2\n",
    "    basis[3,:] = X**3\n",
    "    basis[4,ne1:] = (X[ne1:]-e1)**3\n",
    "    basis[5,ne2:] = (X[ne2:]-e2)**3\n",
    "    \n",
    "    return basis  \n",
    "\n",
    "def getB(model,y):\n",
    "    \"\"\"compute coefficents b for model via least squares\n",
    "    \n",
    "    Parameters\n",
    "    ----------\n",
    "    model : ndarray(M,len(x))\n",
    "        basis expansions\n",
    "    y : ndarray(1,len(x))\n",
    "        f(x)      \n",
    "    Return\n",
    "    -------\n",
    "    b : ndarray(M,1)\n",
    "        coefficients\n",
    "    \"\"\"\n",
    "    b = np.dot(np.dot(np.linalg.inv(np.dot(model,model.T)),model),y)\n",
    "    return b "
   ]
  },
  {
   "cell_type": "code",
   "execution_count": 44,
   "metadata": {},
   "outputs": [
    {
     "data": {
      "image/png": "[encoded data removed]",
      "text/plain": [
       "<Figure size 432x288 with 1 Axes>"
      ]
     },
     "metadata": {
      "needs_background": "light"
     },
     "output_type": "display_data"
    }
   ],
   "source": [
    "## recreate spline from example (cubic and continous)\n",
    "# Page 143, Figure 5.3\n",
    "\n",
    "# calculate splines\n",
    "# nodes \n",
    "ne1 = 33 # number in time array\n",
    "ne2 = 66\n",
    "\n",
    "H = cubicSpline(x,ne1,ne2)\n",
    "b = getB(H,yNoise)\n",
    "\n",
    "# f(x) = b.T * h\n",
    "spline = b.reshape(len(b),1) *  H\n",
    "spline = sum(spline,0)\n",
    "\n",
    "# plot\n",
    "fig1 = plt.figure()\n",
    "ax1 = fig1.add_subplot(111)\n",
    "ax1.plot(x,y)\n",
    "ax1.plot(x,spline)\n",
    "ax1.plot(x,yNoise,'o',markersize = 0.7)\n",
    "ax1.axvline(x[ne1],ls = '--', lw = .5, color = 'C7')\n",
    "ax1.axvline(x[ne2],ls = '--', lw = .5, color = 'C7')\n",
    "ax1.legend(['y','Spline','yNoise','e1','e2'], loc = 'lower center', ncol = 6)\n",
    "plt.tight_layout()\n",
    "plt.show()\n",
    "\n"
   ]
  },
  {
   "cell_type": "code",
   "execution_count": 46,
   "metadata": {},
   "outputs": [
    {
     "data": {
      "application/vnd.jupyter.widget-view+json": {
       "model_id": "f46b8f101d7a4ec2898c0ec8cec4981a",
       "version_major": 2,
       "version_minor": 0
      },
      "text/plain": [
       "interactive(children=(IntSlider(value=49, description='n1', max=99), IntSlider(value=49, description='n2', max…"
      ]
     },
     "metadata": {},
     "output_type": "display_data"
    }
   ],
   "source": [
    "## interactive part - get a feeling for nodes\n",
    "\n",
    "@interact\n",
    "def show_articles_more_than(n1=(0, 99, 1), n2=(0, 99, 1)):\n",
    "    H = cubicSpline(x,n1,n2)\n",
    "    b = getB(H,yNoise)\n",
    "    fx = b.reshape(len(b),1) * H\n",
    "    fx = sum(fx,0)\n",
    "    \n",
    "    fig3 = plt.figure()\n",
    "    ax3 = fig3.add_subplot(111)\n",
    "    ax3.plot(x,y)\n",
    "    ax3.plot(x,fx)\n",
    "    ax3.plot(x,yNoise,'o',markersize = 0.7)\n",
    "    ax3.axvline(x[n1],ls = '--', lw = .5, color = 'C7')\n",
    "    ax3.axvline(x[n2],ls = '--', lw = .5, color = 'C7')\n",
    "    return \n"
   ]
  },
  {
   "cell_type": "code",
   "execution_count": 67,
   "metadata": {},
   "outputs": [],
   "source": [
    "def cubicSpline2(X,k):\n",
    "    \"\"\"compute cubic spline for input X\n",
    "    and nodes ne\n",
    "    \n",
    "    Parameters\n",
    "    ----------\n",
    "    X : ndarray(1,N)  \n",
    "        Input X\n",
    "    k : int\n",
    "        number of knots \n",
    "        \n",
    "    Return\n",
    "    -------\n",
    "    basis : ndarray(M,len(X))\n",
    "        matrix that contains the basis expansions for Input X with M basis functions\n",
    "    \"\"\"\n",
    "    interval = math.floor(len(X)/(k+1))\n",
    "    print(interval)\n",
    "    # create basis functions\n",
    "    M = 4 + k \n",
    "    basis = np.zeros((M,len(X)))\n",
    "    basis[0,:] = np.ones(len(X))\n",
    "    basis[1,:] = X\n",
    "    basis[2,:] = X**2\n",
    "    basis[3,:] = X**3\n",
    "    for i in range(1,k+1):\n",
    "        basis[3+i,interval*i:] = (X[interval*i:]-X[interval*i])**3\n",
    "    return basis  \n",
    "\n",
    "def getB(model,y):\n",
    "    \"\"\"compute coefficents b for model via least squares\n",
    "    \n",
    "    Parameters\n",
    "    ----------\n",
    "    model : ndarray(M,len(x))\n",
    "        basis expansions\n",
    "    y : ndarray(1,len(x))\n",
    "        f(x)      \n",
    "    Return\n",
    "    -------\n",
    "    b : ndarray(M,1)\n",
    "        coefficients\n",
    "    \"\"\"\n",
    "    b = np.dot(np.dot(np.linalg.inv(np.dot(model,model.T)),model),y)\n",
    "    return b \n",
    "                         "
   ]
  },
  {
   "cell_type": "code",
   "execution_count": 72,
   "metadata": {},
   "outputs": [
    {
     "data": {
      "application/vnd.jupyter.widget-view+json": {
       "model_id": "2a4104f616ef4bcda7317d184be7af8b",
       "version_major": 2,
       "version_minor": 0
      },
      "text/plain": [
       "interactive(children=(IntSlider(value=10, description='n', max=20), Output()), _dom_classes=('widget-interact'…"
      ]
     },
     "metadata": {},
     "output_type": "display_data"
    }
   ],
   "source": [
    "## interactive part - get a feeling for nodes\n",
    "\n",
    "@interact\n",
    "def show_articles_more_than(n=(0, 20, 1)):\n",
    "    H = cubicSpline2(x,n)\n",
    "    b = getB(H,yNoise)\n",
    "    fx = b.reshape(len(b),1) * H\n",
    "    fx = sum(fx,0)\n",
    "    \n",
    "    fig3 = plt.figure()\n",
    "    ax3 = fig3.add_subplot(111)\n",
    "    ax3.plot(x,y)\n",
    "    ax3.plot(x,fx)\n",
    "    ax3.plot(x,yNoise,'o',markersize = 0.7)\n",
    "    return \n"
   ]
  },
  {
   "cell_type": "markdown",
   "metadata": {},
   "source": [
    "## Natrual Splines"
   ]
  },
  {
   "cell_type": "code",
   "execution_count": 38,
   "metadata": {},
   "outputs": [],
   "source": [
    "## define functions\n",
    "\n",
    "def natCubicSpline(X,iKnots):\n",
    "    \"\"\"compute natural cubic spline for input X\n",
    "    and nodes n\n",
    "    \n",
    "    Parameters\n",
    "    ----------\n",
    "    X : ndarray(1,N)  \n",
    "        Input X\n",
    "    iKnots : int\n",
    "        number of knots    \n",
    "        \n",
    "    Return\n",
    "    -------\n",
    "    matBasis : ndarray(2+n,len(X))\n",
    "        matrix that contains the basis expansions for Input X with 2+nbasis functions\n",
    "    \"\"\"\n",
    "    # create basis functions\n",
    "    K = 2+iKnots # number of bases\n",
    "    matBasis = np.zeros((K,len(X)))\n",
    "    matBasis[0,:] = np.ones(len(X))\n",
    "    matBasis[1,:] = X\n",
    "    iN = len(X)\n",
    "    iInterval = ceil(iN/iKnots) #interval length\n",
    "    \n",
    "    basis = np.zeros((iKnots+1,len(X)))\n",
    "    basis[iKnots,X[iInterval*(iKnot+1)]:] = (X[iInterval(iKnot+1):]-X[iInterval*(iKnot+1)])**3\n",
    "    \n",
    "    for k in range(0,iKnots):\n",
    "        basis[k,X[iInterval*(k+1)]:] = (X[iInterval*(k+1):]-X[iInterval**(k+1)])**3\n",
    "        d_k = (basis[k,:] - basis[iKnots,:]/(X[iInterval*K]-X[iInterval*(k+1)])\n",
    "        d_K1 = ((X[iInterval*(K-1):]-X[iInterval*(K-1)])**3 - (X[iInterval*K:]-X[iInterval*K])**3)/(X[iInterval*K]-X[iInterval*(K-1)])\n",
    "        matBasis[k+2,:] =  d_k - d_k1\n",
    "        print(k)\n",
    "    return matBasis\n",
    "    "
   ]
  },
  {
   "cell_type": "code",
   "execution_count": 39,
   "metadata": {},
   "outputs": [
    {
     "ename": "TypeError",
     "evalue": "slice indices must be integers or None or have an __index__ method",
     "output_type": "error",
     "traceback": [
      "\u001b[1;31m---------------------------------------------------------------------------\u001b[0m",
      "\u001b[1;31mTypeError\u001b[0m                                 Traceback (most recent call last)",
      "\u001b[1;32m<ipython-input-39-4077a3d9e466>\u001b[0m in \u001b[0;36m<module>\u001b[1;34m\u001b[0m\n\u001b[1;32m----> 1\u001b[1;33m \u001b[0mmatNatSpline\u001b[0m \u001b[1;33m=\u001b[0m \u001b[0mnatCubicSpline\u001b[0m\u001b[1;33m(\u001b[0m\u001b[0mx\u001b[0m\u001b[1;33m,\u001b[0m\u001b[1;36m2\u001b[0m\u001b[1;33m)\u001b[0m\u001b[1;33m\u001b[0m\u001b[1;33m\u001b[0m\u001b[0m\n\u001b[0m",
      "\u001b[1;32m<ipython-input-38-713c8f0c1448>\u001b[0m in \u001b[0;36mnatCubicSpline\u001b[1;34m(X, iKnots)\u001b[0m\n\u001b[0;32m     27\u001b[0m \u001b[1;33m\u001b[0m\u001b[0m\n\u001b[0;32m     28\u001b[0m     \u001b[1;32mfor\u001b[0m \u001b[0mk\u001b[0m \u001b[1;32min\u001b[0m \u001b[0mrange\u001b[0m\u001b[1;33m(\u001b[0m\u001b[1;36m1\u001b[0m\u001b[1;33m,\u001b[0m\u001b[0miKnots\u001b[0m\u001b[1;33m)\u001b[0m\u001b[1;33m:\u001b[0m\u001b[1;33m\u001b[0m\u001b[1;33m\u001b[0m\u001b[0m\n\u001b[1;32m---> 29\u001b[1;33m         \u001b[0md_k\u001b[0m \u001b[1;33m=\u001b[0m \u001b[1;33m(\u001b[0m\u001b[1;33m(\u001b[0m\u001b[0mX\u001b[0m\u001b[1;33m[\u001b[0m\u001b[0miInterval\u001b[0m\u001b[1;33m*\u001b[0m\u001b[0mk\u001b[0m\u001b[1;33m:\u001b[0m\u001b[1;33m]\u001b[0m\u001b[1;33m-\u001b[0m\u001b[0mX\u001b[0m\u001b[1;33m[\u001b[0m\u001b[0miInterval\u001b[0m\u001b[1;33m*\u001b[0m\u001b[0mk\u001b[0m\u001b[1;33m]\u001b[0m\u001b[1;33m)\u001b[0m\u001b[1;33m**\u001b[0m\u001b[1;36m3\u001b[0m \u001b[1;33m-\u001b[0m \u001b[1;33m(\u001b[0m\u001b[0mX\u001b[0m\u001b[1;33m[\u001b[0m\u001b[0miInterval\u001b[0m\u001b[1;33m*\u001b[0m\u001b[0mK\u001b[0m\u001b[1;33m:\u001b[0m\u001b[1;33m]\u001b[0m\u001b[1;33m-\u001b[0m\u001b[0mX\u001b[0m\u001b[1;33m[\u001b[0m\u001b[0miInterval\u001b[0m\u001b[1;33m*\u001b[0m\u001b[0mK\u001b[0m\u001b[1;33m]\u001b[0m\u001b[1;33m)\u001b[0m\u001b[1;33m**\u001b[0m\u001b[1;36m3\u001b[0m\u001b[1;33m)\u001b[0m\u001b[1;33m/\u001b[0m\u001b[1;33m(\u001b[0m\u001b[0mX\u001b[0m\u001b[1;33m[\u001b[0m\u001b[0miInterval\u001b[0m\u001b[1;33m*\u001b[0m\u001b[0mK\u001b[0m\u001b[1;33m]\u001b[0m\u001b[1;33m-\u001b[0m\u001b[0mX\u001b[0m\u001b[1;33m[\u001b[0m\u001b[0miInterval\u001b[0m\u001b[1;33m*\u001b[0m\u001b[0mk\u001b[0m\u001b[1;33m]\u001b[0m\u001b[1;33m)\u001b[0m\u001b[1;33m\u001b[0m\u001b[1;33m\u001b[0m\u001b[0m\n\u001b[0m\u001b[0;32m     30\u001b[0m         \u001b[0md_K1\u001b[0m \u001b[1;33m=\u001b[0m \u001b[1;33m(\u001b[0m\u001b[1;33m(\u001b[0m\u001b[0mX\u001b[0m\u001b[1;33m[\u001b[0m\u001b[0miInterval\u001b[0m\u001b[1;33m*\u001b[0m\u001b[1;33m(\u001b[0m\u001b[0mK\u001b[0m\u001b[1;33m-\u001b[0m\u001b[1;36m1\u001b[0m\u001b[1;33m)\u001b[0m\u001b[1;33m:\u001b[0m\u001b[1;33m]\u001b[0m\u001b[1;33m-\u001b[0m\u001b[0mX\u001b[0m\u001b[1;33m[\u001b[0m\u001b[0miInterval\u001b[0m\u001b[1;33m*\u001b[0m\u001b[1;33m(\u001b[0m\u001b[0mK\u001b[0m\u001b[1;33m-\u001b[0m\u001b[1;36m1\u001b[0m\u001b[1;33m)\u001b[0m\u001b[1;33m]\u001b[0m\u001b[1;33m)\u001b[0m\u001b[1;33m**\u001b[0m\u001b[1;36m3\u001b[0m \u001b[1;33m-\u001b[0m \u001b[1;33m(\u001b[0m\u001b[0mX\u001b[0m\u001b[1;33m[\u001b[0m\u001b[0miInterval\u001b[0m\u001b[1;33m*\u001b[0m\u001b[0mK\u001b[0m\u001b[1;33m:\u001b[0m\u001b[1;33m]\u001b[0m\u001b[1;33m-\u001b[0m\u001b[0mX\u001b[0m\u001b[1;33m[\u001b[0m\u001b[0miInterval\u001b[0m\u001b[1;33m*\u001b[0m\u001b[0mK\u001b[0m\u001b[1;33m]\u001b[0m\u001b[1;33m)\u001b[0m\u001b[1;33m**\u001b[0m\u001b[1;36m3\u001b[0m\u001b[1;33m)\u001b[0m\u001b[1;33m/\u001b[0m\u001b[1;33m(\u001b[0m\u001b[0mX\u001b[0m\u001b[1;33m[\u001b[0m\u001b[0miInterval\u001b[0m\u001b[1;33m*\u001b[0m\u001b[0mK\u001b[0m\u001b[1;33m]\u001b[0m\u001b[1;33m-\u001b[0m\u001b[0mX\u001b[0m\u001b[1;33m[\u001b[0m\u001b[0miInterval\u001b[0m\u001b[1;33m*\u001b[0m\u001b[1;33m(\u001b[0m\u001b[0mK\u001b[0m\u001b[1;33m-\u001b[0m\u001b[1;36m1\u001b[0m\u001b[1;33m)\u001b[0m\u001b[1;33m]\u001b[0m\u001b[1;33m)\u001b[0m\u001b[1;33m\u001b[0m\u001b[1;33m\u001b[0m\u001b[0m\n\u001b[0;32m     31\u001b[0m         \u001b[0mmatBasis\u001b[0m\u001b[1;33m[\u001b[0m\u001b[0mk\u001b[0m\u001b[1;33m+\u001b[0m\u001b[1;36m2\u001b[0m\u001b[1;33m,\u001b[0m\u001b[1;33m:\u001b[0m\u001b[1;33m]\u001b[0m \u001b[1;33m=\u001b[0m  \u001b[0md_k\u001b[0m \u001b[1;33m-\u001b[0m \u001b[0md_k1\u001b[0m\u001b[1;33m\u001b[0m\u001b[1;33m\u001b[0m\u001b[0m\n",
      "\u001b[1;31mTypeError\u001b[0m: slice indices must be integers or None or have an __index__ method"
     ]
    }
   ],
   "source": [
    "matNatSpline = natCubicSpline(x,2)"
   ]
  },
  {
   "cell_type": "code",
   "execution_count": null,
   "metadata": {},
   "outputs": [],
   "source": []
  }
 ],
 "metadata": {
  "kernelspec": {
   "display_name": "Python 3",
   "language": "python",
   "name": "python3"
  },
  "language_info": {
   "codemirror_mode": {
    "name": "ipython",
    "version": 3
   },
   "file_extension": ".py",
   "mimetype": "text/x-python",
   "name": "python",
   "nbconvert_exporter": "python",
   "pygments_lexer": "ipython3",
   "version": "3.6.10"
  }
 },
 "nbformat": 4,
 "nbformat_minor": 4
}
