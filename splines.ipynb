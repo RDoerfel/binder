{
 "cells": [
  {
   "cell_type": "markdown",
   "metadata": {},
   "source": [
    "# Basis Expansions and Regularization"
   ]
  },
  {
   "cell_type": "markdown",
   "metadata": {},
   "source": [
    "## Imports"
   ]
  },
  {
   "cell_type": "code",
   "execution_count": 136,
   "metadata": {},
   "outputs": [],
   "source": [
    "import numpy as np\n",
    "import matplotlib.pyplot as plt\n",
    "import ipywidgets as widgets\n",
    "import pandas as pd\n",
    "import math\n",
    "from ipywidgets import interact, interact_manual"
   ]
  },
  {
   "cell_type": "markdown",
   "metadata": {},
   "source": [
    "## Piecewise Polynomials and Splines "
   ]
  },
  {
   "cell_type": "markdown",
   "metadata": {},
   "source": [
    "### Example Figure 5.2 and Equotian 5.3"
   ]
  },
  {
   "cell_type": "code",
   "execution_count": 137,
   "metadata": {},
   "outputs": [],
   "source": [
    "## lets generate an imputvariable stored in x\n",
    "x = np.arange(0,10,0.1)\n",
    "y = np.sin(x) \n",
    "yNoise = y + np.random.normal(0,0.2,len(x))"
   ]
  },
  {
   "cell_type": "code",
   "execution_count": 138,
   "metadata": {},
   "outputs": [],
   "source": [
    "## define function for cubic spline\n",
    "\n",
    "def cubicSpline(X,ne1,ne2):\n",
    "    \"\"\"compute set of basis functions (cubic spline) for input X\n",
    "    and nodes ne1,ne2\n",
    "    \n",
    "    Parameters\n",
    "    ----------\n",
    "    X : ndarray(1,N)  \n",
    "        Input X\n",
    "    ne1 : int\n",
    "        index of knot 1 in X\n",
    "    ne2 : int\n",
    "        index of knot 2 in X      \n",
    "        \n",
    "    Return\n",
    "    -------\n",
    "    basis : ndarray(M,len(X))\n",
    "        matrix that contains the basis expansions for Input X with M basis functions\n",
    "    \"\"\"\n",
    "    e1 = X[ne1]\n",
    "    e2 = X[ne2]\n",
    "    # create basis functions\n",
    "    M = 6 # number of bases (4+2 knots)\n",
    "    basis = np.zeros((M,len(X)))\n",
    "    basis[0,:] = np.ones(len(X))\n",
    "    basis[1,:] = X\n",
    "    basis[2,:] = X**2\n",
    "    basis[3,:] = X**3\n",
    "    basis[4,ne1:] = (X[ne1:]-e1)**3\n",
    "    basis[5,ne2:] = (X[ne2:]-e2)**3\n",
    "    \n",
    "    return basis  \n",
    "\n",
    "def getB(model,y):\n",
    "    \"\"\"compute coefficents b for model via least squares\n",
    "    \n",
    "    Parameters\n",
    "    ----------\n",
    "    model : ndarray(M,len(x))\n",
    "        basis expansions\n",
    "    y : ndarray(1,len(x))\n",
    "        f(x)      \n",
    "    Return\n",
    "    -------\n",
    "    b : ndarray(M,1)\n",
    "        coefficients\n",
    "    \"\"\"\n",
    "    b = np.dot(np.dot(np.linalg.inv(np.dot(model,model.T)),model),y)\n",
    "    return b "
   ]
  },
  {
   "cell_type": "code",
   "execution_count": 139,
   "metadata": {},
   "outputs": [
    {
     "data": {
      "image/png": "[encoded data removed]",
      "text/plain": [
       "<Figure size 432x288 with 1 Axes>"
      ]
     },
     "metadata": {
      "needs_background": "light"
     },
     "output_type": "display_data"
    }
   ],
   "source": [
    "## recreate spline from example (cubic and continous)\n",
    "# Page 143, Figure 5.3\n",
    "\n",
    "# calculate splines\n",
    "# nodes \n",
    "ne1 = 33 # number in time array\n",
    "ne2 = 66\n",
    "\n",
    "H = cubicSpline(x,ne1,ne2)\n",
    "b = getB(H,yNoise)\n",
    "\n",
    "# f(x) = b.T * h\n",
    "spline = b.reshape(len(b),1) *  H\n",
    "spline = sum(spline,0)\n",
    "\n",
    "# plot\n",
    "fig1 = plt.figure()\n",
    "ax1 = fig1.add_subplot(111)\n",
    "ax1.plot(x,y)\n",
    "ax1.plot(x,spline)\n",
    "ax1.plot(x,yNoise,'o',markersize = 0.7)\n",
    "ax1.axvline(x[ne1],ls = '--', lw = .5, color = 'C7')\n",
    "ax1.axvline(x[ne2],ls = '--', lw = .5, color = 'C7')\n",
    "ax1.legend(['y','Spline','yNoise','e1','e2'], loc = 'lower center', ncol = 6)\n",
    "plt.tight_layout()\n",
    "plt.show()\n",
    "\n"
   ]
  },
  {
   "cell_type": "code",
   "execution_count": 140,
   "metadata": {},
   "outputs": [
    {
     "data": {
      "application/vnd.jupyter.widget-view+json": {
       "model_id": "4b3b1629776f4c658018f05ce6dd4db9",
       "version_major": 2,
       "version_minor": 0
      },
      "text/plain": [
       "interactive(children=(IntSlider(value=49, description='n1', max=99), IntSlider(value=49, description='n2', max…"
      ]
     },
     "metadata": {},
     "output_type": "display_data"
    }
   ],
   "source": [
    "## interactive part - get a feeling for placement of knots\n",
    "\n",
    "@interact\n",
    "def show_articles_more_than(n1=(0, 99, 1), n2=(0, 99, 1)):\n",
    "    H = cubicSpline(x,n1,n2)\n",
    "    b = getB(H,yNoise)\n",
    "    fx = b.reshape(len(b),1) * H\n",
    "    fx = sum(fx,0)\n",
    "    \n",
    "    fig3 = plt.figure()\n",
    "    ax3 = fig3.add_subplot(111)\n",
    "    ax3.plot(x,y)\n",
    "    ax3.plot(x,fx)\n",
    "    ax3.plot(x,yNoise,'o',markersize = 0.7)\n",
    "    ax3.axvline(x[n1],ls = '--', lw = .5, color = 'C7')\n",
    "    ax3.axvline(x[n2],ls = '--', lw = .5, color = 'C7')\n",
    "    return \n"
   ]
  },
  {
   "cell_type": "code",
   "execution_count": 142,
   "metadata": {},
   "outputs": [],
   "source": [
    "def cubicSpline2(X,k):\n",
    "    \"\"\"compute cubic spline for input X\n",
    "    and nodes ne\n",
    "    \n",
    "    Parameters\n",
    "    ----------\n",
    "    X : ndarray(1,N)  \n",
    "        Input X\n",
    "    k : int\n",
    "        number of knots \n",
    "        \n",
    "    Return\n",
    "    -------\n",
    "    basis : ndarray(M,len(X))\n",
    "        matrix that contains the basis expansions for Input X with M basis functions\n",
    "    \"\"\"\n",
    "    interval = len(X)/(k+1)\n",
    "\n",
    "    # create basis functions\n",
    "    M = 4 + k \n",
    "    basis = np.zeros((M,len(X)))\n",
    "    basis[0,:] = np.ones(len(X))\n",
    "    basis[1,:] = X\n",
    "    basis[2,:] = X**2\n",
    "    basis[3,:] = X**3\n",
    "    for i in range(1,k+1):\n",
    "        nek = int(round(i*(interval),0))\n",
    "        basis[3+i,nek:] = (X[nek:]-X[nek])**3\n",
    "    return basis  \n",
    "\n",
    "def getB(model,y):\n",
    "    \"\"\"compute coefficents b for model via least squares\n",
    "    \n",
    "    Parameters\n",
    "    ----------\n",
    "    model : ndarray(M,len(x))\n",
    "        basis expansions\n",
    "    y : ndarray(1,len(x))\n",
    "        f(x)      \n",
    "    Return\n",
    "    -------\n",
    "    b : ndarray(M,1)\n",
    "        coefficients\n",
    "    \"\"\"\n",
    "    b = np.dot(np.dot(np.linalg.inv(np.dot(model,model.T)),model),y)\n",
    "    return b \n",
    "                         "
   ]
  },
  {
   "cell_type": "code",
   "execution_count": 143,
   "metadata": {},
   "outputs": [
    {
     "data": {
      "application/vnd.jupyter.widget-view+json": {
       "model_id": "40175a39fa7e4205a93dbb74e313469d",
       "version_major": 2,
       "version_minor": 0
      },
      "text/plain": [
       "interactive(children=(IntSlider(value=10, description='n', max=20), Output()), _dom_classes=('widget-interact'…"
      ]
     },
     "metadata": {},
     "output_type": "display_data"
    }
   ],
   "source": [
    "## interactive part - get a feeling for number of knots\n",
    "\n",
    "@interact\n",
    "def show_articles_more_than(n=(0, 20, 1)):\n",
    "    H = cubicSpline2(x,n)\n",
    "    b = getB(H,yNoise)\n",
    "    fx = b.reshape(len(b),1) * H\n",
    "    fx = sum(fx,0)\n",
    "    \n",
    "    fig3 = plt.figure()\n",
    "    ax3 = fig3.add_subplot(111)\n",
    "    ax3.plot(x,y)\n",
    "    ax3.plot(x,fx)\n",
    "    ax3.plot(x,yNoise,'o',markersize = 0.7)\n",
    "    \n",
    "    dx = ((len(x))/(n+1))\n",
    "    for i in range(1,n+1):\n",
    "        nk = int(round(i*dx,0))\n",
    "        ax3.axvline(x[nk],ls = '--', lw = .5, color = 'C7')\n",
    "    return \n"
   ]
  },
  {
   "cell_type": "markdown",
   "metadata": {},
   "source": [
    "## Natrual Splines"
   ]
  },
  {
   "cell_type": "code",
   "execution_count": 126,
   "metadata": {},
   "outputs": [],
   "source": [
    "## define functions\n",
    "\n",
    "def getDK(X,nek,neK):\n",
    "    \"\"\"compute natural cubic spline for input X\n",
    "    and nodes n\n",
    "    \n",
    "    Parameters\n",
    "    ----------\n",
    "    X : ndarray(1,N)  \n",
    "        Input X\n",
    "    ek : int\n",
    "        knot k\n",
    "    eK : int\n",
    "        knot K (boundaray knot) \n",
    "        \n",
    "    Return\n",
    "    -------\n",
    "    dk : ndarray(2+n,len(X))\n",
    "        matrix that contains the basis expansions for Input X with 2+nbasis functions\n",
    "    \"\"\"\n",
    "    dK = np.zeros(len(x))\n",
    "    basis = np.zeros([2,len(x)])\n",
    "    basis[0,nek:] = (X[nek:]-X[nek])**3 \n",
    "    basis[1,neK:] = (X[neK:]-X[neK])**3 \n",
    "    \n",
    "    dK = (basis[0,:] - basis [1,:]) / (X[neK] - X[nek])\n",
    "    return dK\n",
    "    \n",
    "def natCubicSpline(X,knots):\n",
    "    \"\"\"compute natural cubic spline for input X\n",
    "    and nodes n\n",
    "    \n",
    "    Parameters\n",
    "    ----------\n",
    "    X : ndarray(1,N)  \n",
    "        Input X\n",
    "    knots : int\n",
    "        number of knots    \n",
    "        \n",
    "    Return\n",
    "    -------\n",
    "    matBasis : ndarray(2+n,len(X))\n",
    "        matrix that contains the basis expansions for Input X with 2+nbasis functions\n",
    "    \"\"\"\n",
    "    # create basis functions\n",
    "    matBasis = np.zeros((knots,len(X)))\n",
    "    matBasis[0,:] = np.ones(len(X))\n",
    "    matBasis[1,:] = X\n",
    "    \n",
    "    \n",
    "    iInterval = ((len(X))/(knots+1)) #interval length\n",
    "    \n",
    "    # dk-1\n",
    "    neK1 = int(round((knots-1)*iInterval,0))\n",
    "    neK = int(round(knots*iInterval,0))\n",
    "    dK1 = getDK(X,neK1,neK)\n",
    "\n",
    "    for k in range(1,knots-1):\n",
    "        nek = int(round(k*(iInterval)))\n",
    "        dk = getDK(X,nek,neK)\n",
    "        matBasis[1+k,:] = dk - dK1\n",
    "    return matBasis\n",
    "    "
   ]
  },
  {
   "cell_type": "code",
   "execution_count": 144,
   "metadata": {
    "scrolled": true
   },
   "outputs": [
    {
     "data": {
      "image/png": "[encoded data removed]",
      "text/plain": [
       "<Figure size 432x288 with 1 Axes>"
      ]
     },
     "metadata": {
      "needs_background": "light"
     },
     "output_type": "display_data"
    }
   ],
   "source": [
    "natSpline = natCubicSpline(x,4)\n",
    "b = getB(natSpline,yNoise)\n",
    "# f(x) = b.T * h\n",
    "fx = b.reshape(len(b),1) * natSpline\n",
    "fx = sum(fx,0)\n",
    "\n",
    "# plot\n",
    "fig3 = plt.figure()\n",
    "ax3 = fig3.add_subplot(111)\n",
    "ax3.plot(x,y)\n",
    "ax3.plot(x,fx)\n",
    "ax3.plot(x,yNoise,'o',markersize = 0.7)\n",
    "#ax3.legend(['fx','yNoise'], loc = 'lower center', ncol = 6)\n",
    "plt.tight_layout()\n",
    "plt.show()"
   ]
  },
  {
   "cell_type": "code",
   "execution_count": 132,
   "metadata": {},
   "outputs": [
    {
     "data": {
      "application/vnd.jupyter.widget-view+json": {
       "model_id": "7a42369482354f15af2e232029924bba",
       "version_major": 2,
       "version_minor": 0
      },
      "text/plain": [
       "interactive(children=(IntSlider(value=11, description='n', max=20, min=2), Output()), _dom_classes=('widget-in…"
      ]
     },
     "metadata": {},
     "output_type": "display_data"
    }
   ],
   "source": [
    "## interactive part - get a feeling for number of knots in natural cubic splines\n",
    "\n",
    "@interact\n",
    "def show_articles_more_than(n=(2, 20, 1)):\n",
    "    H = natCubicSpline(x,n)\n",
    "    b = getB(H,yNoise)\n",
    "    fx = b.reshape(len(b),1) * H\n",
    "    fx = sum(fx,0)\n",
    "    \n",
    "    fig3 = plt.figure()\n",
    "    ax3 = fig3.add_subplot(111)\n",
    "    ax3.plot(x,y)\n",
    "    ax3.plot(x,fx)\n",
    "    ax3.plot(x,yNoise,'o',markersize = 0.7)\n",
    "    dx = ((len(x))/(n+1))\n",
    "    for i in range(1,n+1):\n",
    "        nk = int(round(i*dx,0))\n",
    "        ax3.axvline(x[nk],ls = '--', lw = .5, color = 'C7')\n",
    "    return "
   ]
  },
  {
   "cell_type": "code",
   "execution_count": null,
   "metadata": {},
   "outputs": [],
   "source": []
  }
 ],
 "metadata": {
  "kernelspec": {
   "display_name": "Python 3",
   "language": "python",
   "name": "python3"
  },
  "language_info": {
   "codemirror_mode": {
    "name": "ipython",
    "version": 3
   },
   "file_extension": ".py",
   "mimetype": "text/x-python",
   "name": "python",
   "nbconvert_exporter": "python",
   "pygments_lexer": "ipython3",
   "version": "3.6.10"
  }
 },
 "nbformat": 4,
 "nbformat_minor": 4
}
